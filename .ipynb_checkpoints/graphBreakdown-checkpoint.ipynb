{
 "cells": [
  {
   "cell_type": "code",
   "execution_count": 21,
   "id": "78cb1e31-d179-445e-bdbc-97fa563f05ea",
   "metadata": {},
   "outputs": [],
   "source": [
    "import sys\n",
    "import os\n",
    "from PyQt5.QtWidgets import *\n",
    "from PyQt5.QtCore import *\n",
    "from PyQt5.QtGui import *\n",
    "import functools\n",
    "import numpy as np\n",
    "import random as rd\n",
    "import matplotlib\n",
    "matplotlib.use(\"Qt5Agg\")\n",
    "from matplotlib.figure import Figure\n",
    "from matplotlib.animation import TimedAnimation\n",
    "from matplotlib.lines import Line2D\n",
    "from matplotlib.backends.backend_qt5agg import FigureCanvasQTAgg as FigureCanvas\n",
    "import time\n",
    "import threading\n",
    "import sqlite3"
   ]
  },
  {
   "cell_type": "code",
   "execution_count": 53,
   "id": "81d4ed45-e9da-4c39-b4b9-7e0603af0eb5",
   "metadata": {
    "tags": []
   },
   "outputs": [],
   "source": [
    "# CustomFigCanvas\n",
    "xlim = 200\n",
    "n = np.linspace(0, xlim-1, xlim)"
   ]
  },
  {
   "cell_type": "markdown",
   "id": "78865fdd-9920-4fae-a59f-adfcb4ad3d9f",
   "metadata": {
    "tags": []
   },
   "source": [
    "### Creates an Array of numbers from 0 - 199\n",
    "linspace() returns evenly space numbers over a specified interval.\n",
    "\n",
    "Parameters: \n",
    "* **start** The starting value of the sequence\n",
    "* ***stop*** The end value of the sequence\n",
    "* **num** Number of samples to generate\n",
    "\n",
    "[linspace() Doc](https://numpy.org/doc/stable/reference/generated/numpy.linspace.html)\n"
   ]
  },
  {
   "cell_type": "code",
   "execution_count": 54,
   "id": "3ec11654-450d-4731-a4a0-dc5f289b9281",
   "metadata": {
    "tags": []
   },
   "outputs": [
    {
     "name": "stdout",
     "output_type": "stream",
     "text": [
      "[  0.   1.   2.   3.   4.   5.   6.   7.   8.   9.  10.  11.  12.  13.\n",
      "  14.  15.  16.  17.  18.  19.  20.  21.  22.  23.  24.  25.  26.  27.\n",
      "  28.  29.  30.  31.  32.  33.  34.  35.  36.  37.  38.  39.  40.  41.\n",
      "  42.  43.  44.  45.  46.  47.  48.  49.  50.  51.  52.  53.  54.  55.\n",
      "  56.  57.  58.  59.  60.  61.  62.  63.  64.  65.  66.  67.  68.  69.\n",
      "  70.  71.  72.  73.  74.  75.  76.  77.  78.  79.  80.  81.  82.  83.\n",
      "  84.  85.  86.  87.  88.  89.  90.  91.  92.  93.  94.  95.  96.  97.\n",
      "  98.  99. 100. 101. 102. 103. 104. 105. 106. 107. 108. 109. 110. 111.\n",
      " 112. 113. 114. 115. 116. 117. 118. 119. 120. 121. 122. 123. 124. 125.\n",
      " 126. 127. 128. 129. 130. 131. 132. 133. 134. 135. 136. 137. 138. 139.\n",
      " 140. 141. 142. 143. 144. 145. 146. 147. 148. 149. 150. 151. 152. 153.\n",
      " 154. 155. 156. 157. 158. 159. 160. 161. 162. 163. 164. 165. 166. 167.\n",
      " 168. 169. 170. 171. 172. 173. 174. 175. 176. 177. 178. 179. 180. 181.\n",
      " 182. 183. 184. 185. 186. 187. 188. 189. 190. 191. 192. 193. 194. 195.\n",
      " 196. 197. 198. 199.]\n"
     ]
    }
   ],
   "source": [
    "print(n)"
   ]
  },
  {
   "cell_type": "code",
   "execution_count": 57,
   "id": "7574004f-8c7d-42d9-9971-58a6349de58b",
   "metadata": {},
   "outputs": [],
   "source": [
    "x = np.roll(n, -1)"
   ]
  },
  {
   "cell_type": "markdown",
   "id": "008bf966-3154-408d-9864-f771a492ac79",
   "metadata": {},
   "source": [
    "### Moves the first number into the array to the last\n",
    "\n",
    "roll() Rolls array elements along a given axis\n",
    "\n",
    "Parameters:\n",
    "\n",
    "* **a** Input array \n",
    "* **shift** The number of places by which elements are shiftted\n",
    "* **axis** Axis or axes which elements are shifted. By default the array is flattened\n",
    "\n",
    "[roll() doc](https://numpy.org/doc/stable/reference/generated/numpy.roll.html)"
   ]
  },
  {
   "cell_type": "code",
   "execution_count": 59,
   "id": "716bd736-768a-495c-92eb-696accc749ef",
   "metadata": {},
   "outputs": [
    {
     "name": "stdout",
     "output_type": "stream",
     "text": [
      "[  1.   2.   3.   4.   5.   6.   7.   8.   9.  10.  11.  12.  13.  14.\n",
      "  15.  16.  17.  18.  19.  20.  21.  22.  23.  24.  25.  26.  27.  28.\n",
      "  29.  30.  31.  32.  33.  34.  35.  36.  37.  38.  39.  40.  41.  42.\n",
      "  43.  44.  45.  46.  47.  48.  49.  50.  51.  52.  53.  54.  55.  56.\n",
      "  57.  58.  59.  60.  61.  62.  63.  64.  65.  66.  67.  68.  69.  70.\n",
      "  71.  72.  73.  74.  75.  76.  77.  78.  79.  80.  81.  82.  83.  84.\n",
      "  85.  86.  87.  88.  89.  90.  91.  92.  93.  94.  95.  96.  97.  98.\n",
      "  99. 100. 101. 102. 103. 104. 105. 106. 107. 108. 109. 110. 111. 112.\n",
      " 113. 114. 115. 116. 117. 118. 119. 120. 121. 122. 123. 124. 125. 126.\n",
      " 127. 128. 129. 130. 131. 132. 133. 134. 135. 136. 137. 138. 139. 140.\n",
      " 141. 142. 143. 144. 145. 146. 147. 148. 149. 150. 151. 152. 153. 154.\n",
      " 155. 156. 157. 158. 159. 160. 161. 162. 163. 164. 165. 166. 167. 168.\n",
      " 169. 170. 171. 172. 173. 174. 175. 176. 177. 178. 179. 180. 181. 182.\n",
      " 183. 184. 185. 186. 187. 188. 189. 190. 191. 192. 193. 194. 195. 196.\n",
      " 197. 198. 199.   0.]\n"
     ]
    }
   ],
   "source": [
    "print(x)"
   ]
  },
  {
   "cell_type": "markdown",
   "id": "c2fdc28e-f801-4d47-93d6-20a1e1937c0c",
   "metadata": {},
   "source": [
    "### print x from element 0 to the size of x -2 "
   ]
  },
  {
   "cell_type": "code",
   "execution_count": 10,
   "id": "ded2c53d-ea3d-4e00-af92-1a757e33d070",
   "metadata": {},
   "outputs": [
    {
     "name": "stdout",
     "output_type": "stream",
     "text": [
      "[  0.   1.   2.   3.   4.   5.   6.   7.   8.   9.  10.  11.  12.  13.\n",
      "  14.  15.  16.  17.  18.  19.  20.  21.  22.  23.  24.  25.  26.  27.\n",
      "  28.  29.  30.  31.  32.  33.  34.  35.  36.  37.  38.  39.  40.  41.\n",
      "  42.  43.  44.  45.  46.  47.  48.  49.  50.  51.  52.  53.  54.  55.\n",
      "  56.  57.  58.  59.  60.  61.  62.  63.  64.  65.  66.  67.  68.  69.\n",
      "  70.  71.  72.  73.  74.  75.  76.  77.  78.  79.  80.  81.  82.  83.\n",
      "  84.  85.  86.  87.  88.  89.  90.  91.  92.  93.  94.  95.  96.  97.\n",
      "  98.  99. 100. 101. 102. 103. 104. 105. 106. 107. 108. 109. 110. 111.\n",
      " 112. 113. 114. 115. 116. 117. 118. 119. 120. 121. 122. 123. 124. 125.\n",
      " 126. 127. 128. 129. 130. 131. 132. 133. 134. 135. 136. 137. 138. 139.\n",
      " 140. 141. 142. 143. 144. 145. 146. 147. 148. 149. 150. 151. 152. 153.\n",
      " 154. 155. 156. 157. 158. 159. 160. 161. 162. 163. 164. 165. 166. 167.\n",
      " 168. 169. 170. 171. 172. 173. 174. 175. 176. 177. 178. 179. 180. 181.\n",
      " 182. 183. 184. 185. 186. 187. 188. 189. 190. 191. 192. 193. 194. 195.\n",
      " 196. 197.]\n"
     ]
    }
   ],
   "source": [
    "print(x[ 0 : x.size - 2])"
   ]
  },
  {
   "cell_type": "markdown",
   "id": "b2c85e5d-de1d-497a-bdfe-28cdf943d3ec",
   "metadata": {},
   "source": [
    "### Create a new thread\n",
    "\n",
    "`myDataLoop = threading.Thread(name = 'myDataLoop', target = dataSendLoop, daemon = True, args = (self.addData_callbackFunc,))`\n",
    "\n",
    "`myDataLoop.start()`"
   ]
  },
  {
   "cell_type": "markdown",
   "id": "9319b0a9-7367-4a9b-b289-63537f1a4c0f",
   "metadata": {},
   "source": [
    "### Thread()\n",
    "\n",
    "`class threading.Thread(group=None, target=None, name=None, args=(), kwargs={}, *, daemon=None)`\n",
    "\n",
    "Paramaters:\n",
    "\n",
    "* **group** Name of ThreadGroup class\n",
    "* **target** The callable object to be invoked by the run() method\n",
    "* **name** Thread Name\n",
    "* **daemon** set whether the thread is daemonic\n",
    "* **args** The argument for the target invocation\n",
    "\n",
    "[Thread() doc](https://docs.python.org/3/library/threading.html#threading.Thread)"
   ]
  },
  {
   "cell_type": "markdown",
   "id": "f763ca9c-66a3-40bd-adbc-f9846df611dd",
   "metadata": {},
   "source": [
    "### Creatre a new Figure\n",
    "\n",
    "`self.fig = Figure(dpi=100)`"
   ]
  },
  {
   "cell_type": "markdown",
   "id": "9bf84c81-65ab-4cb3-b384-ebb36be945fb",
   "metadata": {},
   "source": [
    "## figure() ##\n",
    "\n",
    "`matplotlib.pyplot.figure(num=None, figsize=None, dpi=None, *, facecolor=None, edgecolor=None, frameon=True, FigureClass=<class 'matplotlib.figure.Figure'>, clear=False, **kwargs)`\n",
    "\n",
    "Parameters:\n",
    "\n",
    "* **num** Unique identified for the figure\n",
    "* **figsize** Width, height in inches\n",
    "* **dpi** resolution of the figure in dots-per-inch\n",
    "* **facecolor** The background colour\n",
    "* **edgecolor** The border colour\n",
    "\n",
    "[figure() doc](https://matplotlib.org/stable/api/_as_gen/matplotlib.pyplot.figure.html)"
   ]
  },
  {
   "cell_type": "markdown",
   "id": "96e7ed67-2856-4bf7-984e-2ace55a53dec",
   "metadata": {},
   "source": [
    "## TODO ##\n",
    "\n",
    "FigureCanvas.__init__(self, self.fig)\n",
    "TimedAnimation.__init__(self, self.fig, interval = 50, blit = True)\n",
    "\n",
    "Python classes"
   ]
  },
  {
   "cell_type": "code",
   "execution_count": null,
   "id": "91c94bb9-d6b5-4fca-b775-cff40674094b",
   "metadata": {},
   "outputs": [],
   "source": []
  }
 ],
 "metadata": {
  "kernelspec": {
   "display_name": "Python 3 (ipykernel)",
   "language": "python",
   "name": "python3"
  },
  "language_info": {
   "codemirror_mode": {
    "name": "ipython",
    "version": 3
   },
   "file_extension": ".py",
   "mimetype": "text/x-python",
   "name": "python",
   "nbconvert_exporter": "python",
   "pygments_lexer": "ipython3",
   "version": "3.10.7"
  }
 },
 "nbformat": 4,
 "nbformat_minor": 5
}
